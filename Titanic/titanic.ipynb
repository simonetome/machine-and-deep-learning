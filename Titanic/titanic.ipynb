{
 "cells": [
  {
   "cell_type": "code",
   "execution_count": 118,
   "metadata": {},
   "outputs": [
    {
     "name": "stdout",
     "output_type": "stream",
     "text": [
      "Requirement already satisfied: keras in c:\\users\\simon\\appdata\\local\\programs\\python\\python39\\lib\\site-packages (2.7.0)\n"
     ]
    },
    {
     "name": "stderr",
     "output_type": "stream",
     "text": [
      "WARNING: You are using pip version 21.1.1; however, version 21.3.1 is available.\n",
      "You should consider upgrading via the 'c:\\users\\simon\\appdata\\local\\programs\\python\\python39\\python.exe -m pip install --upgrade pip' command.\n"
     ]
    },
    {
     "name": "stdout",
     "output_type": "stream",
     "text": [
      "Requirement already satisfied: pandas in c:\\users\\simon\\appdata\\local\\programs\\python\\python39\\lib\\site-packages (1.3.3)\n",
      "Requirement already satisfied: python-dateutil>=2.7.3 in c:\\users\\simon\\appdata\\local\\programs\\python\\python39\\lib\\site-packages (from pandas) (2.8.2)\n",
      "Requirement already satisfied: numpy>=1.17.3 in c:\\users\\simon\\appdata\\local\\programs\\python\\python39\\lib\\site-packages (from pandas) (1.21.2)\n"
     ]
    },
    {
     "name": "stderr",
     "output_type": "stream",
     "text": [
      "WARNING: You are using pip version 21.1.1; however, version 21.3.1 is available.\n",
      "You should consider upgrading via the 'c:\\users\\simon\\appdata\\local\\programs\\python\\python39\\python.exe -m pip install --upgrade pip' command.\n"
     ]
    },
    {
     "name": "stdout",
     "output_type": "stream",
     "text": [
      "Requirement already satisfied: pytz>=2017.3 in c:\\users\\simon\\appdata\\local\\programs\\python\\python39\\lib\\site-packages (from pandas) (2021.1)\n",
      "Requirement already satisfied: six>=1.5 in c:\\users\\simon\\appdata\\local\\programs\\python\\python39\\lib\\site-packages (from python-dateutil>=2.7.3->pandas) (1.16.0)\n",
      "Requirement already satisfied: scipy in c:\\users\\simon\\appdata\\local\\programs\\python\\python39\\lib\\site-packages (1.7.1)\n",
      "Requirement already satisfied: numpy<1.23.0,>=1.16.5 in c:\\users\\simon\\appdata\\local\\programs\\python\\python39\\lib\\site-packages (from scipy) (1.21.2)\n"
     ]
    },
    {
     "name": "stderr",
     "output_type": "stream",
     "text": [
      "WARNING: You are using pip version 21.1.1; however, version 21.3.1 is available.\n",
      "You should consider upgrading via the 'c:\\users\\simon\\appdata\\local\\programs\\python\\python39\\python.exe -m pip install --upgrade pip' command.\n"
     ]
    },
    {
     "name": "stdout",
     "output_type": "stream",
     "text": [
      "Requirement already satisfied: tensorflow in c:\\users\\simon\\appdata\\local\\programs\\python\\python39\\lib\\site-packages (2.7.0)\n",
      "Requirement already satisfied: protobuf>=3.9.2 in c:\\users\\simon\\appdata\\local\\programs\\python\\python39\\lib\\site-packages (from tensorflow) (3.19.1)\n",
      "Requirement already satisfied: grpcio<2.0,>=1.24.3 in c:\\users\\simon\\appdata\\local\\programs\\python\\python39\\lib\\site-packages (from tensorflow) (1.42.0)\n",
      "Requirement already satisfied: tensorboard~=2.6 in c:\\users\\simon\\appdata\\local\\programs\\python\\python39\\lib\\site-packages (from tensorflow) (2.7.0)\n",
      "Requirement already satisfied: tensorflow-io-gcs-filesystem>=0.21.0 in c:\\users\\simon\\appdata\\local\\programs\\python\\python39\\lib\\site-packages (from tensorflow) (0.22.0)\n",
      "Requirement already satisfied: keras-preprocessing>=1.1.1 in c:\\users\\simon\\appdata\\local\\programs\\python\\python39\\lib\\site-packages (from tensorflow) (1.1.2)\n",
      "Requirement already satisfied: astunparse>=1.6.0 in c:\\users\\simon\\appdata\\local\\programs\\python\\python39\\lib\\site-packages (from tensorflow) (1.6.3)\n",
      "Requirement already satisfied: libclang>=9.0.1 in c:\\users\\simon\\appdata\\local\\programs\\python\\python39\\lib\\site-packages (from tensorflow) (12.0.0)\n",
      "Requirement already satisfied: gast<0.5.0,>=0.2.1 in c:\\users\\simon\\appdata\\local\\programs\\python\\python39\\lib\\site-packages (from tensorflow) (0.4.0)\n",
      "Requirement already satisfied: wrapt>=1.11.0 in c:\\users\\simon\\appdata\\local\\programs\\python\\python39\\lib\\site-packages (from tensorflow) (1.13.3)\n",
      "Requirement already satisfied: flatbuffers<3.0,>=1.12 in c:\\users\\simon\\appdata\\local\\programs\\python\\python39\\lib\\site-packages (from tensorflow) (2.0)\n",
      "Requirement already satisfied: six>=1.12.0 in c:\\users\\simon\\appdata\\local\\programs\\python\\python39\\lib\\site-packages (from tensorflow) (1.16.0)\n",
      "Requirement already satisfied: opt-einsum>=2.3.2 in c:\\users\\simon\\appdata\\local\\programs\\python\\python39\\lib\\site-packages (from tensorflow) (3.3.0)\n",
      "Requirement already satisfied: wheel<1.0,>=0.32.0 in c:\\users\\simon\\appdata\\local\\programs\\python\\python39\\lib\\site-packages (from tensorflow) (0.37.0)\n",
      "Requirement already satisfied: absl-py>=0.4.0 in c:\\users\\simon\\appdata\\local\\programs\\python\\python39\\lib\\site-packages (from tensorflow) (1.0.0)\n",
      "Requirement already satisfied: typing-extensions>=3.6.6 in c:\\users\\simon\\appdata\\local\\programs\\python\\python39\\lib\\site-packages (from tensorflow) (4.0.1)\n",
      "Requirement already satisfied: termcolor>=1.1.0 in c:\\users\\simon\\appdata\\local\\programs\\python\\python39\\lib\\site-packages (from tensorflow) (1.1.0)\n",
      "Requirement already satisfied: tensorflow-estimator<2.8,~=2.7.0rc0 in c:\\users\\simon\\appdata\\local\\programs\\python\\python39\\lib\\site-packages (from tensorflow) (2.7.0)\n",
      "Requirement already satisfied: h5py>=2.9.0 in c:\\users\\simon\\appdata\\local\\programs\\python\\python39\\lib\\site-packages (from tensorflow) (3.2.1)\n",
      "Requirement already satisfied: google-pasta>=0.1.1 in c:\\users\\simon\\appdata\\local\\programs\\python\\python39\\lib\\site-packages (from tensorflow) (0.2.0)\n",
      "Requirement already satisfied: numpy>=1.14.5 in c:\\users\\simon\\appdata\\local\\programs\\python\\python39\\lib\\site-packages (from tensorflow) (1.21.2)\n",
      "Requirement already satisfied: keras<2.8,>=2.7.0rc0 in c:\\users\\simon\\appdata\\local\\programs\\python\\python39\\lib\\site-packages (from tensorflow) (2.7.0)\n",
      "Requirement already satisfied: setuptools>=41.0.0 in c:\\users\\simon\\appdata\\local\\programs\\python\\python39\\lib\\site-packages (from tensorboard~=2.6->tensorflow) (56.0.0)\n",
      "Requirement already satisfied: requests<3,>=2.21.0 in c:\\users\\simon\\appdata\\local\\programs\\python\\python39\\lib\\site-packages (from tensorboard~=2.6->tensorflow) (2.26.0)\n",
      "Requirement already satisfied: google-auth-oauthlib<0.5,>=0.4.1 in c:\\users\\simon\\appdata\\local\\programs\\python\\python39\\lib\\site-packages (from tensorboard~=2.6->tensorflow) (0.4.6)\n",
      "Requirement already satisfied: tensorboard-plugin-wit>=1.6.0 in c:\\users\\simon\\appdata\\local\\programs\\python\\python39\\lib\\site-packages (from tensorboard~=2.6->tensorflow) (1.8.0)\n",
      "Requirement already satisfied: werkzeug>=0.11.15 in c:\\users\\simon\\appdata\\local\\programs\\python\\python39\\lib\\site-packages (from tensorboard~=2.6->tensorflow) (2.0.2)\n",
      "Requirement already satisfied: markdown>=2.6.8 in c:\\users\\simon\\appdata\\local\\programs\\python\\python39\\lib\\site-packages (from tensorboard~=2.6->tensorflow) (3.3.6)\n",
      "Requirement already satisfied: google-auth<3,>=1.6.3 in c:\\users\\simon\\appdata\\local\\programs\\python\\python39\\lib\\site-packages (from tensorboard~=2.6->tensorflow) (2.3.3)\n",
      "Requirement already satisfied: tensorboard-data-server<0.7.0,>=0.6.0 in c:\\users\\simon\\appdata\\local\\programs\\python\\python39\\lib\\site-packages (from tensorboard~=2.6->tensorflow) (0.6.1)\n",
      "Requirement already satisfied: pyasn1-modules>=0.2.1 in c:\\users\\simon\\appdata\\local\\programs\\python\\python39\\lib\\site-packages (from google-auth<3,>=1.6.3->tensorboard~=2.6->tensorflow) (0.2.8)\n",
      "Requirement already satisfied: rsa<5,>=3.1.4 in c:\\users\\simon\\appdata\\local\\programs\\python\\python39\\lib\\site-packages (from google-auth<3,>=1.6.3->tensorboard~=2.6->tensorflow) (4.8)\n",
      "Requirement already satisfied: cachetools<5.0,>=2.0.0 in c:\\users\\simon\\appdata\\local\\programs\\python\\python39\\lib\\site-packages (from google-auth<3,>=1.6.3->tensorboard~=2.6->tensorflow) (4.2.4)\n",
      "Requirement already satisfied: requests-oauthlib>=0.7.0 in c:\\users\\simon\\appdata\\local\\programs\\python\\python39\\lib\\site-packages (from google-auth-oauthlib<0.5,>=0.4.1->tensorboard~=2.6->tensorflow) (1.3.0)\n",
      "Requirement already satisfied: importlib-metadata>=4.4 in c:\\users\\simon\\appdata\\local\\programs\\python\\python39\\lib\\site-packages (from markdown>=2.6.8->tensorboard~=2.6->tensorflow) (4.8.2)\n",
      "Requirement already satisfied: zipp>=0.5 in c:\\users\\simon\\appdata\\local\\programs\\python\\python39\\lib\\site-packages (from importlib-metadata>=4.4->markdown>=2.6.8->tensorboard~=2.6->tensorflow) (3.6.0)\n",
      "Requirement already satisfied: pyasn1<0.5.0,>=0.4.6 in c:\\users\\simon\\appdata\\local\\programs\\python\\python39\\lib\\site-packages (from pyasn1-modules>=0.2.1->google-auth<3,>=1.6.3->tensorboard~=2.6->tensorflow) (0.4.8)\n",
      "Requirement already satisfied: charset-normalizer~=2.0.0 in c:\\users\\simon\\appdata\\local\\programs\\python\\python39\\lib\\site-packages (from requests<3,>=2.21.0->tensorboard~=2.6->tensorflow) (2.0.4)\n",
      "Requirement already satisfied: idna<4,>=2.5 in c:\\users\\simon\\appdata\\local\\programs\\python\\python39\\lib\\site-packages (from requests<3,>=2.21.0->tensorboard~=2.6->tensorflow) (3.2)\n",
      "Requirement already satisfied: certifi>=2017.4.17 in c:\\users\\simon\\appdata\\local\\programs\\python\\python39\\lib\\site-packages (from requests<3,>=2.21.0->tensorboard~=2.6->tensorflow) (2021.5.30)\n",
      "Requirement already satisfied: urllib3<1.27,>=1.21.1 in c:\\users\\simon\\appdata\\local\\programs\\python\\python39\\lib\\site-packages (from requests<3,>=2.21.0->tensorboard~=2.6->tensorflow) (1.26.6)\n",
      "Requirement already satisfied: oauthlib>=3.0.0 in c:\\users\\simon\\appdata\\local\\programs\\python\\python39\\lib\\site-packages (from requests-oauthlib>=0.7.0->google-auth-oauthlib<0.5,>=0.4.1->tensorboard~=2.6->tensorflow) (3.1.1)\n"
     ]
    },
    {
     "name": "stderr",
     "output_type": "stream",
     "text": [
      "WARNING: You are using pip version 21.1.1; however, version 21.3.1 is available.\n",
      "You should consider upgrading via the 'c:\\users\\simon\\appdata\\local\\programs\\python\\python39\\python.exe -m pip install --upgrade pip' command.\n"
     ]
    }
   ],
   "source": [
    "# requirements\n",
    "!pip install keras\n",
    "!pip install pandas \n",
    "!pip install scipy \n",
    "!pip install tensorflow"
   ]
  },
  {
   "cell_type": "markdown",
   "metadata": {},
   "source": [
    "<h2>Titanic</h2>\n",
    "The task is a binary classification one. 0 -> died, 1 -> survived."
   ]
  },
  {
   "cell_type": "code",
   "execution_count": 205,
   "metadata": {},
   "outputs": [],
   "source": [
    "# imports\n",
    "\n",
    "import os \n",
    "import pandas as pd\n",
    "import matplotlib.pyplot as plt\n",
    "import numpy as np\n",
    "import keras\n",
    "import csv\n",
    "import tensorflow as tf\n",
    "from tensorflow import keras\n",
    "\n",
    "from keras import layers, Sequential\n",
    "from keras.layers import Input, Add, Dense, Activation, ZeroPadding1D, Flatten, Conv1D, MaxPooling1D, GlobalMaxPooling1D, Dropout\n",
    "from keras.models import Model\n",
    "\n",
    "from sklearn.model_selection import train_test_split\n",
    "\n"
   ]
  },
  {
   "cell_type": "markdown",
   "metadata": {},
   "source": [
    "create dataframe from training data. It's clear that Name "
   ]
  },
  {
   "cell_type": "code",
   "execution_count": 206,
   "metadata": {},
   "outputs": [
    {
     "name": "stdout",
     "output_type": "stream",
     "text": [
      "Index(['PassengerId', 'Survived', 'Pclass', 'Name', 'Sex', 'Age', 'SibSp',\n",
      "       'Parch', 'Ticket', 'Fare', 'Cabin', 'Embarked'],\n",
      "      dtype='object')\n"
     ]
    }
   ],
   "source": [
    "working_directory = os.getcwd()\n",
    "\n",
    "test_data_dir = os.path.join(working_directory,'test.csv')\n",
    "training_data_dir = os.path.join(working_directory,'train.csv')\n",
    "\n",
    "def load_csv(file_dir):\n",
    "    return pd.read_csv(file_dir)\n",
    "\n",
    "train_dataframe = load_csv(training_data_dir)\n",
    "print(train_dataframe.columns)"
   ]
  },
  {
   "cell_type": "code",
   "execution_count": 207,
   "metadata": {},
   "outputs": [],
   "source": [
    "train_dataframe = train_dataframe.drop(columns=['Name','PassengerId'])"
   ]
  },
  {
   "cell_type": "code",
   "execution_count": 208,
   "metadata": {},
   "outputs": [
    {
     "data": {
      "text/plain": [
       "2"
      ]
     },
     "execution_count": 208,
     "metadata": {},
     "output_type": "execute_result"
    }
   ],
   "source": [
    "# count how many dinstinct values for each record \n",
    "\n",
    "#train_dataframe['Sex'].value_counts()\n",
    "#train_dataframe['Ticket'].nunique()\n",
    "train_dataframe['Sex'].nunique()"
   ]
  },
  {
   "cell_type": "markdown",
   "metadata": {},
   "source": [
    "Some values are missing -> 1st option delete all rows where a value is missing (more advanced options later)"
   ]
  },
  {
   "cell_type": "code",
   "execution_count": 209,
   "metadata": {},
   "outputs": [
    {
     "data": {
      "text/plain": [
       "133"
      ]
     },
     "execution_count": 209,
     "metadata": {},
     "output_type": "execute_result"
    }
   ],
   "source": [
    "train_dataframe.isna().any(axis=1)#train_dataframe.isna().any(axis=1) boolean indexing\n",
    "train_dataframe = train_dataframe.dropna(axis = 0)\n",
    "#train_dataframe.drop(axis = 0,index = (train_dataframe.isna().any(axis=1)[0]))\n",
    "\n",
    "train_dataframe['Cabin'].nunique() #133 unique cabins "
   ]
  },
  {
   "cell_type": "code",
   "execution_count": 210,
   "metadata": {},
   "outputs": [],
   "source": [
    "def convert_to_onehot(cabin_str):\n",
    "    temp = np.zeros(133,dtype=np.float32)\n",
    "    unique_arr = train_dataframe['Cabin'].unique()\n",
    "    temp[np.where(unique_arr == cabin_str)] = 1.0\n",
    "    return temp.flatten()\n",
    "\n",
    "train_dataframe['Cabin'] = train_dataframe['Cabin'].apply(convert_to_onehot)\n"
   ]
  },
  {
   "cell_type": "code",
   "execution_count": 211,
   "metadata": {},
   "outputs": [],
   "source": [
    "train_df, validation_df = train_test_split(train_dataframe, test_size=0.2)"
   ]
  },
  {
   "cell_type": "code",
   "execution_count": 212,
   "metadata": {},
   "outputs": [],
   "source": [
    "# TRAIN ARRAYS\n",
    "\n",
    "x_ = train_df[['Pclass','Age','SibSp','Parch','Fare']].values \n",
    "x_cabins = np.array(np.stack(train_df['Cabin'].values))\n",
    "x_train = np.concatenate((x_,x_cabins),axis=1)\n",
    "y_train = train_df[['Survived']].values\n",
    "\n",
    "# VALIDATION ARRAYS \n",
    "\n",
    "x_ = validation_df[['Pclass','Age','SibSp','Parch','Fare']].values \n",
    "x_cabins = np.array(np.stack(validation_df['Cabin'].values))\n",
    "x_valid = np.concatenate((x_,x_cabins),axis=1)\n",
    "y_valid = validation_df[['Survived']].values\n"
   ]
  },
  {
   "cell_type": "code",
   "execution_count": 196,
   "metadata": {},
   "outputs": [
    {
     "name": "stdout",
     "output_type": "stream",
     "text": [
      "[ 1.     38.      1.      0.     71.2833  1.      0.      0.      0.\n",
      "  0.      0.      0.      0.      0.      0.      0.      0.      0.\n",
      "  0.      0.      0.      0.      0.      0.      0.      0.      0.\n",
      "  0.      0.      0.      0.      0.      0.      0.      0.      0.\n",
      "  0.      0.      0.      0.      0.      0.      0.      0.      0.\n",
      "  0.      0.      0.      0.      0.      0.      0.      0.      0.\n",
      "  0.      0.      0.      0.      0.      0.      0.      0.      0.\n",
      "  0.      0.      0.      0.      0.      0.      0.      0.      0.\n",
      "  0.      0.      0.      0.      0.      0.      0.      0.      0.\n",
      "  0.      0.      0.      0.      0.      0.      0.      0.      0.\n",
      "  0.      0.      0.      0.      0.      0.      0.      0.      0.\n",
      "  0.      0.      0.      0.      0.      0.      0.      0.      0.\n",
      "  0.      0.      0.      0.      0.      0.      0.      0.      0.\n",
      "  0.      0.      0.      0.      0.      0.      0.      0.      0.\n",
      "  0.      0.      0.      0.      0.      0.      0.      0.      0.\n",
      "  0.      0.      0.    ]\n"
     ]
    }
   ],
   "source": [
    "print(x_train[0])"
   ]
  },
  {
   "cell_type": "code",
   "execution_count": 217,
   "metadata": {},
   "outputs": [
    {
     "name": "stdout",
     "output_type": "stream",
     "text": [
      "Model: \"sequential_38\"\n",
      "_________________________________________________________________\n",
      " Layer (type)                Output Shape              Param #   \n",
      "=================================================================\n",
      " dense_107 (Dense)           (None, 64)                8896      \n",
      "                                                                 \n",
      " dense_108 (Dense)           (None, 256)               16640     \n",
      "                                                                 \n",
      " dense_109 (Dense)           (None, 32)                8224      \n",
      "                                                                 \n",
      " dense_110 (Dense)           (None, 1)                 33        \n",
      "                                                                 \n",
      "=================================================================\n",
      "Total params: 33,793\n",
      "Trainable params: 33,793\n",
      "Non-trainable params: 0\n",
      "_________________________________________________________________\n",
      "Epoch 1/40\n",
      "19/19 [==============================] - 0s 6ms/step - loss: 1.2550 - accuracy: 0.5548 - val_loss: 1.2264 - val_accuracy: 0.6486\n",
      "Epoch 2/40\n",
      "19/19 [==============================] - 0s 2ms/step - loss: 0.8431 - accuracy: 0.6096 - val_loss: 0.7052 - val_accuracy: 0.6216\n",
      "Epoch 3/40\n",
      "19/19 [==============================] - 0s 1ms/step - loss: 0.6521 - accuracy: 0.6575 - val_loss: 0.6706 - val_accuracy: 0.6757\n",
      "Epoch 4/40\n",
      "19/19 [==============================] - 0s 2ms/step - loss: 0.6555 - accuracy: 0.7055 - val_loss: 0.6616 - val_accuracy: 0.6757\n",
      "Epoch 5/40\n",
      "19/19 [==============================] - 0s 2ms/step - loss: 0.6140 - accuracy: 0.7329 - val_loss: 0.7196 - val_accuracy: 0.7027\n",
      "Epoch 6/40\n",
      "19/19 [==============================] - 0s 2ms/step - loss: 0.6248 - accuracy: 0.6918 - val_loss: 0.6785 - val_accuracy: 0.6216\n",
      "Epoch 7/40\n",
      "19/19 [==============================] - 0s 2ms/step - loss: 0.5959 - accuracy: 0.6986 - val_loss: 0.6608 - val_accuracy: 0.6757\n",
      "Epoch 8/40\n",
      "19/19 [==============================] - 0s 2ms/step - loss: 0.6055 - accuracy: 0.7123 - val_loss: 0.6599 - val_accuracy: 0.6486\n",
      "Epoch 9/40\n",
      "19/19 [==============================] - 0s 2ms/step - loss: 0.5925 - accuracy: 0.6849 - val_loss: 0.6699 - val_accuracy: 0.6486\n",
      "Epoch 10/40\n",
      "19/19 [==============================] - 0s 2ms/step - loss: 0.6050 - accuracy: 0.7192 - val_loss: 0.6655 - val_accuracy: 0.6486\n",
      "Epoch 11/40\n",
      "19/19 [==============================] - 0s 2ms/step - loss: 0.6073 - accuracy: 0.7055 - val_loss: 0.6610 - val_accuracy: 0.6486\n",
      "Epoch 12/40\n",
      "19/19 [==============================] - 0s 2ms/step - loss: 0.5776 - accuracy: 0.7123 - val_loss: 0.6582 - val_accuracy: 0.6486\n",
      "Epoch 13/40\n",
      "19/19 [==============================] - 0s 2ms/step - loss: 0.5763 - accuracy: 0.7123 - val_loss: 0.6609 - val_accuracy: 0.6486\n",
      "Epoch 14/40\n",
      "19/19 [==============================] - 0s 2ms/step - loss: 0.5614 - accuracy: 0.7123 - val_loss: 0.6454 - val_accuracy: 0.6486\n",
      "Epoch 15/40\n",
      "19/19 [==============================] - 0s 2ms/step - loss: 0.5833 - accuracy: 0.7123 - val_loss: 0.6626 - val_accuracy: 0.6486\n",
      "Epoch 16/40\n",
      "19/19 [==============================] - 0s 2ms/step - loss: 0.5787 - accuracy: 0.6986 - val_loss: 0.6442 - val_accuracy: 0.6486\n",
      "Epoch 17/40\n",
      "19/19 [==============================] - 0s 2ms/step - loss: 0.5560 - accuracy: 0.7123 - val_loss: 0.6423 - val_accuracy: 0.6757\n",
      "Epoch 18/40\n",
      "19/19 [==============================] - 0s 2ms/step - loss: 0.5460 - accuracy: 0.7329 - val_loss: 0.6433 - val_accuracy: 0.6216\n",
      "Epoch 19/40\n",
      "19/19 [==============================] - 0s 1ms/step - loss: 0.5649 - accuracy: 0.7192 - val_loss: 0.6648 - val_accuracy: 0.7027\n",
      "Epoch 20/40\n",
      "19/19 [==============================] - 0s 2ms/step - loss: 0.5920 - accuracy: 0.6986 - val_loss: 0.6642 - val_accuracy: 0.6216\n",
      "Epoch 21/40\n",
      "19/19 [==============================] - 0s 2ms/step - loss: 0.5590 - accuracy: 0.7329 - val_loss: 0.6954 - val_accuracy: 0.6216\n",
      "Epoch 22/40\n",
      "19/19 [==============================] - 0s 2ms/step - loss: 0.6059 - accuracy: 0.7123 - val_loss: 0.6369 - val_accuracy: 0.7027\n",
      "Epoch 23/40\n",
      "19/19 [==============================] - 0s 2ms/step - loss: 0.5208 - accuracy: 0.7671 - val_loss: 0.6938 - val_accuracy: 0.5946\n",
      "Epoch 24/40\n",
      "19/19 [==============================] - 0s 2ms/step - loss: 0.4967 - accuracy: 0.7877 - val_loss: 0.7160 - val_accuracy: 0.5405\n",
      "Epoch 25/40\n",
      "19/19 [==============================] - 0s 2ms/step - loss: 0.4086 - accuracy: 0.8288 - val_loss: 0.7927 - val_accuracy: 0.6486\n",
      "Epoch 26/40\n",
      "19/19 [==============================] - 0s 1ms/step - loss: 0.5599 - accuracy: 0.7877 - val_loss: 0.7471 - val_accuracy: 0.6216\n",
      "Epoch 27/40\n",
      "19/19 [==============================] - 0s 2ms/step - loss: 0.4852 - accuracy: 0.7397 - val_loss: 0.7152 - val_accuracy: 0.6757\n",
      "Epoch 28/40\n",
      "19/19 [==============================] - 0s 2ms/step - loss: 0.3813 - accuracy: 0.8356 - val_loss: 0.8186 - val_accuracy: 0.5135\n",
      "Epoch 29/40\n",
      "19/19 [==============================] - 0s 2ms/step - loss: 0.5195 - accuracy: 0.8356 - val_loss: 0.7641 - val_accuracy: 0.5135\n",
      "Epoch 30/40\n",
      "19/19 [==============================] - 0s 2ms/step - loss: 0.4495 - accuracy: 0.8151 - val_loss: 0.9459 - val_accuracy: 0.5135\n",
      "Epoch 31/40\n",
      "19/19 [==============================] - 0s 2ms/step - loss: 0.2898 - accuracy: 0.8699 - val_loss: 0.8787 - val_accuracy: 0.5135\n",
      "Epoch 32/40\n",
      "19/19 [==============================] - 0s 2ms/step - loss: 0.2927 - accuracy: 0.8767 - val_loss: 0.8676 - val_accuracy: 0.6486\n",
      "Epoch 33/40\n",
      "19/19 [==============================] - 0s 2ms/step - loss: 0.2102 - accuracy: 0.8904 - val_loss: 1.2676 - val_accuracy: 0.5135\n",
      "Epoch 34/40\n",
      "19/19 [==============================] - 0s 2ms/step - loss: 0.2796 - accuracy: 0.8630 - val_loss: 0.9837 - val_accuracy: 0.6486\n",
      "Epoch 35/40\n",
      "19/19 [==============================] - 0s 2ms/step - loss: 0.3003 - accuracy: 0.8904 - val_loss: 0.8625 - val_accuracy: 0.6486\n",
      "Epoch 36/40\n",
      "19/19 [==============================] - 0s 1ms/step - loss: 0.1879 - accuracy: 0.9247 - val_loss: 0.9522 - val_accuracy: 0.5405\n",
      "Epoch 37/40\n",
      "19/19 [==============================] - 0s 2ms/step - loss: 0.2593 - accuracy: 0.8973 - val_loss: 0.9281 - val_accuracy: 0.5405\n",
      "Epoch 38/40\n",
      "19/19 [==============================] - 0s 1ms/step - loss: 0.1726 - accuracy: 0.8973 - val_loss: 1.3413 - val_accuracy: 0.5135\n",
      "Epoch 39/40\n",
      "19/19 [==============================] - 0s 2ms/step - loss: 0.3522 - accuracy: 0.8630 - val_loss: 0.8861 - val_accuracy: 0.5676\n",
      "Epoch 40/40\n",
      "19/19 [==============================] - 0s 1ms/step - loss: 0.2844 - accuracy: 0.8699 - val_loss: 0.7655 - val_accuracy: 0.5946\n"
     ]
    }
   ],
   "source": [
    "def neuralNet():\n",
    "    return keras.Sequential([\n",
    "    keras.layers.Input(shape = (138,)),\n",
    "    keras.layers.Dense(64, activation=tf.nn.relu),\n",
    "    keras.layers.Dropout(rate=0.2),\n",
    "    keras.layers.Dense(32, activation=tf.nn.relu),\n",
    "    keras.layers.Dropout(rate=0.2),\n",
    "    keras.layers.Dense(32, activation=tf.nn.relu),\n",
    "    keras.layers.Dense(1,activation=tf.nn.sigmoid)\n",
    "])\n",
    "\n",
    "nn = neuralNet()\n",
    "nn.summary()\n",
    "\n",
    "learning_rate = 0.005\n",
    "nn.compile(\n",
    "    optimizer = keras.optimizers.Adam(learning_rate),\n",
    "    loss = 'binary_crossentropy',\n",
    "    metrics = ['accuracy']\n",
    ")\n",
    "\n",
    "history = nn.fit(\n",
    "    x = x_train,\n",
    "    y = y_train, \n",
    "    batch_size = 8,\n",
    "    validation_data=(x_valid, y_valid),\n",
    "    epochs = 40\n",
    ").history\n",
    "\n",
    "#validation_data=(X_val_filt, y_val),"
   ]
  },
  {
   "cell_type": "code",
   "execution_count": null,
   "metadata": {},
   "outputs": [],
   "source": []
  }
 ],
 "metadata": {
  "interpreter": {
   "hash": "5fcd2642978b16f6bbd7e7ad8d3dd4856b9ed7b9e5afb74471291183f56d1393"
  },
  "kernelspec": {
   "display_name": "Python 3.9.5 64-bit",
   "language": "python",
   "name": "python3"
  },
  "language_info": {
   "codemirror_mode": {
    "name": "ipython",
    "version": 3
   },
   "file_extension": ".py",
   "mimetype": "text/x-python",
   "name": "python",
   "nbconvert_exporter": "python",
   "pygments_lexer": "ipython3",
   "version": "3.9.5"
  },
  "orig_nbformat": 4
 },
 "nbformat": 4,
 "nbformat_minor": 2
}
